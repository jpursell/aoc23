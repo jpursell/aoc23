{
 "cells": [
  {
   "cell_type": "code",
   "execution_count": null,
   "id": "229405d1-8aff-4bf1-940d-064dead12001",
   "metadata": {},
   "outputs": [],
   "source": [
    "from pathlib import Path\n",
    "\n",
    "import holoviews as hv\n",
    "import holoviews.operation.datashader as  hd\n",
    "import numpy as np"
   ]
  },
  {
   "cell_type": "code",
   "execution_count": null,
   "id": "045ec785-456c-4152-8b3d-c0a11b35e424",
   "metadata": {},
   "outputs": [],
   "source": [
    "hv.extension(\"bokeh\")"
   ]
  },
  {
   "cell_type": "code",
   "execution_count": null,
   "id": "88ff9762-3275-4136-912a-c485aaa6ad99",
   "metadata": {},
   "outputs": [],
   "source": [
    "# example_data = Path(\"../src/day_24/example_data.txt\").read_text().splitlines()\n",
    "example_data = Path(\"../src/day_24/data.txt\").read_text().splitlines()"
   ]
  },
  {
   "cell_type": "code",
   "execution_count": null,
   "id": "fee9d3ee-c6fb-417b-be7b-02e0ca21737b",
   "metadata": {},
   "outputs": [],
   "source": [
    "def parse(line):\n",
    "    (pos, vel) = line.split(\" @ \")\n",
    "    pos = pos.split(\", \")\n",
    "    vel = vel.split(\", \")\n",
    "    pos = [int(val) for val in pos]\n",
    "    vel = [int(val) for val in vel]\n",
    "    return {\"p\":pos, \"v\":vel}"
   ]
  },
  {
   "cell_type": "code",
   "execution_count": null,
   "id": "55ae1546-7b88-443d-a527-bccbad3eebb9",
   "metadata": {},
   "outputs": [],
   "source": [
    "data = [parse(line) for line in example_data]"
   ]
  },
  {
   "cell_type": "code",
   "execution_count": null,
   "id": "6e64fda4-6a63-49ea-b915-e485aaf084f7",
   "metadata": {},
   "outputs": [],
   "source": [
    "(\n",
    "    hv.HoloMap({t: hv.Scatter([(d[\"p\"][0] + d[\"v\"][0] * t, d[\"p\"][1] + d[\"v\"][1] * t) for d in data]) for t in np.linspace(0, 1.2e12, 100)}).opts(width=500, height=500) +\n",
    "    hv.HoloMap({t: hv.Scatter([(d[\"p\"][0] + d[\"v\"][0] * t, d[\"p\"][2] + d[\"v\"][2] * t) for d in data]) for t in np.linspace(0, 1.2e12, 100)}).opts(width=500, height=500)\n",
    ")"
   ]
  },
  {
   "cell_type": "code",
   "execution_count": null,
   "id": "1eadf750-ec4c-475d-a5c5-c5853820bba4",
   "metadata": {},
   "outputs": [],
   "source": [
    "xt = []\n",
    "for arr in [[(t, d[\"p\"][0] + d[\"v\"][0] * t) for d in data]for t in np.linspace(0, 1.2e12, 1000)]:\n",
    "    xt.extend(arr)\n",
    "\n",
    "hd.datashade(hv.Scatter(xt).opts(width=500, height=500)).opts(width=1000, height=500)"
   ]
  },
  {
   "cell_type": "code",
   "execution_count": null,
   "id": "928b63ee-5fe8-4ada-9dd0-fb26a6464171",
   "metadata": {},
   "outputs": [],
   "source": [
    "yt = []\n",
    "for arr in [[(t, d[\"p\"][1] + d[\"v\"][1] * t) for d in data]for t in np.linspace(0, 1.2e12, 1000)]:\n",
    "    yt.extend(arr)\n",
    "\n",
    "hd.datashade(hv.Scatter(yt).opts(width=500, height=500)).opts(width=1000, height=500)"
   ]
  },
  {
   "cell_type": "code",
   "execution_count": null,
   "id": "91bc3086-3366-4006-bae4-a0bdd10030ee",
   "metadata": {},
   "outputs": [],
   "source": [
    "zt = []\n",
    "for arr in [[(t, d[\"p\"][2] + d[\"v\"][2] * t) for d in data]for t in np.linspace(0, 1.2e12, 1000)]:\n",
    "    zt.extend(arr)\n",
    "\n",
    "hd.datashade(hv.Scatter(zt).opts(width=500, height=500)).opts(width=1000, height=500)"
   ]
  },
  {
   "cell_type": "code",
   "execution_count": null,
   "id": "923248ef-f031-43cc-8763-363eb6744319",
   "metadata": {},
   "outputs": [],
   "source": [
    "width, height = 500, 500\n",
    "(\n",
    "    hv.HoloMap({t: hv.Histogram(np.histogram([d[\"p\"][0] + d[\"v\"][0] * t for d in data])) for t in np.linspace(0, 1.2e12, 100)}).opts(width=width, height=height) +\n",
    "    hv.HoloMap({t: hv.Histogram(np.histogram([d[\"p\"][1] + d[\"v\"][1] * t for d in data])) for t in np.linspace(0, 1.2e12, 100)}).opts(width=width, height=height) +\n",
    "    hv.HoloMap({t: hv.Histogram(np.histogram([d[\"p\"][2] + d[\"v\"][2] * t for d in data])) for t in np.linspace(0, 1.2e12, 100)}).opts(width=width, height=height)\n",
    ")"
   ]
  },
  {
   "cell_type": "code",
   "execution_count": null,
   "id": "4407c3f9-35f5-4d34-83ba-56d0e49a2c11",
   "metadata": {},
   "outputs": [],
   "source": [
    "(\n",
    "    hv.Histogram(np.histogram([d[\"p\"][0] for d in data])).opts(width=500, height=400) + \n",
    "    hv.Histogram(np.histogram([d[\"p\"][1] for d in data])).opts(width=500, height=400) + \n",
    "    hv.Histogram(np.histogram([d[\"p\"][2] for d in data])).opts(width=500, height=400)\n",
    ")"
   ]
  },
  {
   "cell_type": "code",
   "execution_count": null,
   "id": "7415fcce-72b5-45ac-8cf7-903e6adcc0e6",
   "metadata": {},
   "outputs": [],
   "source": [
    "np.log2(6e14)"
   ]
  },
  {
   "cell_type": "code",
   "execution_count": null,
   "id": "c03b6bd9-8b8c-4ea6-ac97-ee1a977499b7",
   "metadata": {},
   "outputs": [],
   "source": [
    "(\n",
    "    hv.Histogram(np.histogram([d[\"v\"][0] for d in data])).opts(width=500, height=400) + \n",
    "    hv.Histogram(np.histogram([d[\"v\"][1] for d in data])).opts(width=500, height=400) + \n",
    "    hv.Histogram(np.histogram([d[\"v\"][2] for d in data])).opts(width=500, height=400)\n",
    ")"
   ]
  },
  {
   "cell_type": "code",
   "execution_count": null,
   "id": "2e7953bf-9aa2-4f32-ab3a-0521503212ff",
   "metadata": {},
   "outputs": [],
   "source": [
    "width = 500\n",
    "height = 400\n",
    "(\n",
    "    hv.Scatter([(d[\"p\"][0], d[\"v\"][0]) for d in data]).opts(width=width, height=height, show_grid=True) +\n",
    "    hv.Scatter([(d[\"p\"][1], d[\"v\"][1]) for d in data]).opts(width=width, height=height, show_grid=True) +\n",
    "    hv.Scatter([(d[\"p\"][2], d[\"v\"][2]) for d in data]).opts(width=width, height=height, show_grid=True)\n",
    ")"
   ]
  },
  {
   "cell_type": "code",
   "execution_count": null,
   "id": "66445ee8-2318-40b4-a8e4-996eb04860a0",
   "metadata": {},
   "outputs": [],
   "source": [
    "width = 500\n",
    "height = 400\n",
    "(\n",
    "    hv.Scatter([(d[\"p\"][0], d[\"p\"][1]) for d in data]).opts(width=width, height=height, show_grid=True) + \n",
    "    hv.Scatter([(d[\"p\"][0], d[\"p\"][2]) for d in data]).opts(width=width, height=height, show_grid=True) + \n",
    "    hv.Scatter([(d[\"p\"][1], d[\"p\"][2]) for d in data]).opts(width=width, height=height, show_grid=True)\n",
    ")"
   ]
  },
  {
   "cell_type": "code",
   "execution_count": null,
   "id": "279d48b1-a7dd-49cd-a7c3-621377c13d8c",
   "metadata": {},
   "outputs": [],
   "source": [
    "width = 500\n",
    "height = 400\n",
    "(\n",
    "    hv.Scatter([(d[\"v\"][0], d[\"v\"][1]) for d in data]).opts(width=width, height=height, show_grid=True) + \n",
    "    hv.Scatter([(d[\"v\"][0], d[\"v\"][2]) for d in data]).opts(width=width, height=height, show_grid=True) + \n",
    "    hv.Scatter([(d[\"v\"][1], d[\"v\"][2]) for d in data]).opts(width=width, height=height, show_grid=True)\n",
    ")"
   ]
  },
  {
   "cell_type": "code",
   "execution_count": null,
   "id": "7a6d22bf-090d-45fa-96db-6a4dff0a910f",
   "metadata": {},
   "outputs": [],
   "source": [
    "def plot(d, t, label=\"\", axis=0):\n",
    "    x = d[\"p\"][axis] + d[\"v\"][axis] * t\n",
    "    return hv.Curve([[0, d[\"p\"][axis]], [t, x]], label=label)"
   ]
  },
  {
   "cell_type": "code",
   "execution_count": null,
   "id": "24ece919-bc9f-4651-becd-2de224425e4b",
   "metadata": {},
   "outputs": [],
   "source": [
    "# r = {\"p\":[24, 13, 10], \"v\":[-3, 1, 2]}"
   ]
  },
  {
   "cell_type": "code",
   "execution_count": null,
   "id": "5a638e56-5517-4dd4-9fab-b0d299ee3132",
   "metadata": {},
   "outputs": [],
   "source": [
    "if False:\n",
    "    width = 800\n",
    "    height= 500\n",
    "    (plot(r, 10, label=\"rock\", axis=0) * plot(data[0], 10, axis=0) * plot(data[1], 10, axis=0) * plot(data[2], 10, axis=0) * plot(data[3], 10, axis=0) * plot(data[4], 10, axis=0)).opts(width=width, height=height) + \\\n",
    "    (plot(r, 10, label=\"rock\", axis=1) * plot(data[0], 10, axis=1) * plot(data[1], 10, axis=1) * plot(data[2], 10, axis=1) * plot(data[3], 10, axis=1) * plot(data[4], 10, axis=1)).opts(width=width, height=height) + \\\n",
    "    (plot(r, 10, label=\"rock\", axis=2) * plot(data[0], 10, axis=2) * plot(data[1], 10, axis=2) * plot(data[2], 10, axis=2) * plot(data[3], 10, axis=2) * plot(data[4], 10, axis=2)).opts(width=width, height=height)"
   ]
  },
  {
   "cell_type": "code",
   "execution_count": null,
   "id": "37fb90bc-66b9-46f6-9ef5-9322ed243b3d",
   "metadata": {},
   "outputs": [],
   "source": [
    "t = 1e12\n",
    "hv.Overlay([plot(d, t) for d in data]).opts(width=1000, height=1000)"
   ]
  },
  {
   "cell_type": "code",
   "execution_count": null,
   "id": "49711e34-5c78-4aad-9799-f5d926e582c0",
   "metadata": {},
   "outputs": [],
   "source": []
  }
 ],
 "metadata": {
  "kernelspec": {
   "display_name": "Python 3 (ipykernel)",
   "language": "python",
   "name": "python3"
  },
  "language_info": {
   "codemirror_mode": {
    "name": "ipython",
    "version": 3
   },
   "file_extension": ".py",
   "mimetype": "text/x-python",
   "name": "python",
   "nbconvert_exporter": "python",
   "pygments_lexer": "ipython3",
   "version": "3.11.7"
  }
 },
 "nbformat": 4,
 "nbformat_minor": 5
}
