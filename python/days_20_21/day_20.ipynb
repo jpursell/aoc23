{
 "cells": [
  {
   "cell_type": "code",
   "execution_count": null,
   "id": "88bbcc2e-0fb5-4aca-b97b-6bcbfe6a49ca",
   "metadata": {},
   "outputs": [],
   "source": [
    "import numpy as np\n",
    "import pandas as pd\n",
    "import holoviews as hv\n",
    "import networkx as nx\n",
    "from holoviews import opts\n",
    "from holoviews.element.graphs import layout_nodes\n",
    "from pathlib import Path"
   ]
  },
  {
   "cell_type": "code",
   "execution_count": null,
   "id": "b071959e-23a1-49fe-a725-67c386a9f94c",
   "metadata": {},
   "outputs": [],
   "source": [
    "hv.extension(\"bokeh\")"
   ]
  },
  {
   "cell_type": "code",
   "execution_count": null,
   "id": "34d72ad8-2d51-4ec2-9cf3-3757094a3407",
   "metadata": {},
   "outputs": [],
   "source": [
    "data_path = Path(\"../src/day_20/data.txt\")\n",
    "data = data_path.read_text().splitlines()"
   ]
  },
  {
   "cell_type": "code",
   "execution_count": null,
   "id": "aa10e449-58b6-4826-a332-ad056f2ae1ac",
   "metadata": {},
   "outputs": [],
   "source": [
    "def parse_simple(line):\n",
    "    name, dep = line.split(\" -> \")\n",
    "    dep = dep.split(\", \")\n",
    "    return {\"name\": name[1:], \"op\": name[0], \"dep\": dep}"
   ]
  },
  {
   "cell_type": "code",
   "execution_count": null,
   "id": "f5ce06d2-741f-4a76-aa6c-5f41fffed89d",
   "metadata": {},
   "outputs": [],
   "source": [
    "def parse_broadcaster(line):\n",
    "    assert line.startswith(\"broadcaster\")\n",
    "    _, dep = line.split(\" -> \")\n",
    "    dep = dep.split(\", \")\n",
    "    return {\"name\": \"broad\", \"op\": \"b\", \"dep\": dep}"
   ]
  },
  {
   "cell_type": "code",
   "execution_count": null,
   "id": "32e23545-90f6-4dba-85c3-fb17d22f6880",
   "metadata": {},
   "outputs": [],
   "source": [
    "def parse_line(line):\n",
    "    if line[0] == \"%\" or line[0] == \"&\":\n",
    "        return parse_simple(line)\n",
    "    return parse_broadcaster(line)"
   ]
  },
  {
   "cell_type": "code",
   "execution_count": null,
   "id": "9a40c66c-723b-40e0-b5a3-72e72921f9f6",
   "metadata": {},
   "outputs": [],
   "source": [
    "nodes = [parse_line(line) for line in data]"
   ]
  },
  {
   "cell_type": "code",
   "execution_count": null,
   "id": "ed198baf-cedc-492d-8460-1bf327c6ce1b",
   "metadata": {},
   "outputs": [],
   "source": [
    "op_names = {node[\"name\"]: node[\"op\"] + node[\"name\"] for node in nodes}"
   ]
  },
  {
   "cell_type": "code",
   "execution_count": null,
   "id": "ce0998ac-9022-4a6f-9ea9-9db456ede900",
   "metadata": {},
   "outputs": [],
   "source": [
    "edges = []\n",
    "for node in nodes:\n",
    "    for d in node[\"dep\"]:\n",
    "        s = op_names.get(node[\"name\"], node[\"name\"])\n",
    "        d = op_names.get(d, d)\n",
    "        if d.startswith(\"&\"):\n",
    "            w = 2.0\n",
    "        else:\n",
    "            w = 1.0\n",
    "        edges.append((s, d, w))"
   ]
  },
  {
   "cell_type": "code",
   "execution_count": null,
   "id": "07d78366-db23-4ed4-9d57-f2be03a683a2",
   "metadata": {},
   "outputs": [],
   "source": [
    "graph = hv.Graph(edges, vdims=\"weight\").opts(width=800, height=600, directed=True, edge_color=\"weight\")\n",
    "layout_nodes(graph, layout=nx.layout.fruchterman_reingold_layout, kwargs={'weight': 'weight'})"
   ]
  },
  {
   "cell_type": "code",
   "execution_count": null,
   "id": "998091a4-61b5-4772-b7e1-22dc9e382b14",
   "metadata": {},
   "outputs": [],
   "source": []
  }
 ],
 "metadata": {
  "kernelspec": {
   "display_name": "Python 3 (ipykernel)",
   "language": "python",
   "name": "python3"
  },
  "language_info": {
   "codemirror_mode": {
    "name": "ipython",
    "version": 3
   },
   "file_extension": ".py",
   "mimetype": "text/x-python",
   "name": "python",
   "nbconvert_exporter": "python",
   "pygments_lexer": "ipython3",
   "version": "3.12.1"
  }
 },
 "nbformat": 4,
 "nbformat_minor": 5
}
