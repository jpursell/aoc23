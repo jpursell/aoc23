{
 "cells": [
  {
   "cell_type": "markdown",
   "id": "4dc3c9ed-268a-4b61-b7d5-ee29cf2a9c11",
   "metadata": {},
   "source": [
    "I was working on building out the answer as based on distance frames that reduce to a single number and grow as a shell. I was wondering if I could keep the shell full out the way out to the edges and not run out of memory. I think ultimatly The shell start will just be the city block distance out there and you won't need to compute all the interior. maybe just the second to last ring."
   ]
  },
  {
   "cell_type": "code",
   "execution_count": null,
   "id": "fc3d8268-bd16-498b-be08-ced5754c1158",
   "metadata": {},
   "outputs": [],
   "source": [
    "tile_size = 131\n",
    "tile_size_bytes = 8*tile_size*tile_size\n",
    "print(f\"{tile_size_bytes=}\")\n",
    "radius = 26501365\n",
    "nuber_of_tiles_per_edge = 2*radius/tile_size\n",
    "print(f\"{nuber_of_tiles_per_edge=}\")\n",
    "ring_size_bytes = tile_size_bytes * nuber_of_tiles_per_edge * 4\n",
    "print(f\"{ring_size_bytes=}\")"
   ]
  },
  {
   "cell_type": "code",
   "execution_count": null,
   "id": "bf506042-2580-42c5-a802-df3684057b5a",
   "metadata": {},
   "outputs": [],
   "source": [
    "ring_size_gib = ring_size_bytes / 2 ** 30\n",
    "print(f\"{ring_size_gib=}\")"
   ]
  },
  {
   "cell_type": "code",
   "execution_count": null,
   "id": "36698461-5896-40be-abb1-4c7adeae4258",
   "metadata": {},
   "outputs": [],
   "source": [
    "#####\n",
    "#####\n",
    "#####\n",
    "#####\n",
    "#####\n",
    "#####"
   ]
  },
  {
   "cell_type": "markdown",
   "id": "f6c308a1-b641-44a1-9c9b-0fc8dc34d4fd",
   "metadata": {},
   "source": [
    "Ok using whole tiles for the outer ring uses around 200 GiB and that's too much. so what about a thing ring?"
   ]
  },
  {
   "cell_type": "code",
   "execution_count": null,
   "id": "42d01660-9d07-4f59-a6b3-64087ae9e9a9",
   "metadata": {},
   "outputs": [],
   "source": [
    "tile_size = 131\n",
    "tile_size_bytes = 8*tile_size\n",
    "print(f\"{tile_size_bytes=}\")\n",
    "radius = 26501365\n",
    "nuber_of_tiles_per_edge = 2*radius/tile_size\n",
    "print(f\"{nuber_of_tiles_per_edge=}\")\n",
    "ring_size_bytes = tile_size_bytes * nuber_of_tiles_per_edge * 4\n",
    "print(f\"{ring_size_bytes=}\")"
   ]
  },
  {
   "cell_type": "code",
   "execution_count": null,
   "id": "100c684d-ddaf-49b2-8361-d19a56f3c37b",
   "metadata": {},
   "outputs": [],
   "source": [
    "ring_size_gib = ring_size_bytes / 2 ** 30\n",
    "print(f\"{ring_size_gib=}\")"
   ]
  },
  {
   "cell_type": "markdown",
   "id": "af0d6234-e22c-4239-8598-b1bc03aa95c4",
   "metadata": {},
   "source": [
    "1.6 GiB is managable, but not small. It's probably possible to go even lower by jumping to the outer right or maybe second to last part of it"
   ]
  },
  {
   "cell_type": "code",
   "execution_count": null,
   "id": "a743a8fd-0514-4fb7-8554-316299f51593",
   "metadata": {},
   "outputs": [],
   "source": []
  }
 ],
 "metadata": {
  "kernelspec": {
   "display_name": "Python 3 (ipykernel)",
   "language": "python",
   "name": "python3"
  },
  "language_info": {
   "codemirror_mode": {
    "name": "ipython",
    "version": 3
   },
   "file_extension": ".py",
   "mimetype": "text/x-python",
   "name": "python",
   "nbconvert_exporter": "python",
   "pygments_lexer": "ipython3",
   "version": "3.11.7"
  }
 },
 "nbformat": 4,
 "nbformat_minor": 5
}
