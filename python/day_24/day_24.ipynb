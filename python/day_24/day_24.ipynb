{
 "cells": [
  {
   "cell_type": "code",
   "execution_count": null,
   "id": "229405d1-8aff-4bf1-940d-064dead12001",
   "metadata": {},
   "outputs": [],
   "source": [
    "from pathlib import Path\n",
    "\n",
    "import holoviews as hv\n",
    "import numpy as np\n",
    "import sympy"
   ]
  },
  {
   "cell_type": "code",
   "execution_count": null,
   "id": "045ec785-456c-4152-8b3d-c0a11b35e424",
   "metadata": {},
   "outputs": [],
   "source": [
    "hv.extension(\"bokeh\")"
   ]
  },
  {
   "cell_type": "code",
   "execution_count": null,
   "id": "2a6ccef9-63ce-41ea-89c4-19b024c86fee",
   "metadata": {},
   "outputs": [],
   "source": [
    "px0, px1, px2, py0, py1, py2, pz0, pz1, pz2, vx0, vx1, vx2, vy0, vy1, vy2, vz0, vz1, vz2, t0, t1, t2, rpx, rpy, rpz, rvx, rvy, rvz, = \\\n",
    "sympy.symbols(\"px0 px1 px2 py0 py1 py2 pz0 pz1 pz2 vx0 vx1 vx2 vy0 vy1 vy2 vz0 vz1 vz2 t0 t1 t2 rpx rpy rpz rvx rvy rvz\")"
   ]
  },
  {
   "cell_type": "code",
   "execution_count": null,
   "id": "24361912-277c-4f86-8650-3132299c9498",
   "metadata": {},
   "outputs": [],
   "source": [
    "epow = 2\n",
    "d = 2"
   ]
  },
  {
   "cell_type": "code",
   "execution_count": null,
   "id": "847d6048-8b7f-4b18-8045-1c77263a1764",
   "metadata": {},
   "outputs": [],
   "source": [
    "e2 = (\n",
    "    (px0 + vx0 * t0 - rpx - rvx * t0) ** epow +\n",
    "    (py0 + vy0 * t0 - rpy - rvy * t0) ** epow +\n",
    "    (px1 + vx1 * t1 - rpx - rvx * t1) ** epow + \n",
    "    (py1 + vy1 * t1 - rpy - rvy * t1) ** epow)"
   ]
  },
  {
   "cell_type": "code",
   "execution_count": null,
   "id": "177a3d73-3f61-4cd3-812f-a5bc1726fafe",
   "metadata": {},
   "outputs": [],
   "source": [
    "e3 = (\n",
    "    (px0 + vx0 * t0 - rpx - rvx * t0) ** epow +\n",
    "    (py0 + vy0 * t0 - rpy - rvy * t0) ** epow +\n",
    "    (px1 + vx1 * t1 - rpx - rvx * t1) ** epow + \n",
    "    (py1 + vy1 * t1 - rpy - rvy * t1) ** epow +\n",
    "    (px2 + vx2 * t2 - rpx - rvx * t2) ** epow + \n",
    "    (py2 + vy2 * t2 - rpy - rvy * t2) ** epow)"
   ]
  },
  {
   "cell_type": "code",
   "execution_count": null,
   "id": "2c2b5338-6d8a-4c6f-a056-350a6d2a73ae",
   "metadata": {},
   "outputs": [],
   "source": [
    "sympy.diff(e2, rpx, d)"
   ]
  },
  {
   "cell_type": "code",
   "execution_count": null,
   "id": "827ac758-676c-4891-b5a0-5b2028e40341",
   "metadata": {},
   "outputs": [],
   "source": [
    "sympy.diff(e3, rpx, d)"
   ]
  },
  {
   "cell_type": "code",
   "execution_count": null,
   "id": "27330236-ac2b-4e21-987b-0b597e7201ab",
   "metadata": {},
   "outputs": [],
   "source": [
    "sympy.diff(e2, rvx, d)"
   ]
  },
  {
   "cell_type": "code",
   "execution_count": null,
   "id": "982f1d7d-358d-4a13-a764-42d9e74e5e89",
   "metadata": {},
   "outputs": [],
   "source": [
    "sympy.diff(e3, rvx, d)"
   ]
  },
  {
   "cell_type": "code",
   "execution_count": null,
   "id": "772de1a7-1991-4f85-8f94-ceae0596d002",
   "metadata": {},
   "outputs": [],
   "source": [
    "sympy.diff(e2, t0, d)"
   ]
  },
  {
   "cell_type": "code",
   "execution_count": null,
   "id": "bee98e0c-163b-4488-9117-09976e9f6e59",
   "metadata": {},
   "outputs": [],
   "source": [
    "sympy.diff(e3, t0, d)"
   ]
  },
  {
   "cell_type": "code",
   "execution_count": null,
   "id": "88ff9762-3275-4136-912a-c485aaa6ad99",
   "metadata": {},
   "outputs": [],
   "source": [
    "# example_data = Path(\"../src/day_24/example_data.txt\").read_text().splitlines()\n",
    "example_data = Path(\"../../src/day_24/data.txt\").read_text().splitlines()"
   ]
  },
  {
   "cell_type": "code",
   "execution_count": null,
   "id": "fee9d3ee-c6fb-417b-be7b-02e0ca21737b",
   "metadata": {},
   "outputs": [],
   "source": [
    "def parse(line):\n",
    "    (pos, vel) = line.split(\" @ \")\n",
    "    pos = pos.split(\", \")\n",
    "    vel = vel.split(\", \")\n",
    "    pos = [int(val) for val in pos]\n",
    "    vel = [int(val) for val in vel]\n",
    "    return {\"p\":pos, \"v\":vel}"
   ]
  },
  {
   "cell_type": "code",
   "execution_count": null,
   "id": "55ae1546-7b88-443d-a527-bccbad3eebb9",
   "metadata": {},
   "outputs": [],
   "source": [
    "data = [parse(line) for line in example_data]"
   ]
  },
  {
   "cell_type": "code",
   "execution_count": null,
   "id": "baa83bde-741a-4e66-a106-496e8d3a16ee",
   "metadata": {},
   "outputs": [],
   "source": [
    "t = np.linspace(0, 1.2e12, 100)\n",
    "# p[istone, t, dim]\n",
    "p = [[[d[\"p\"][dim] + d[\"v\"][dim] * t[i] for dim in range(3)] for i in range(len(t))] for d in data]"
   ]
  },
  {
   "cell_type": "code",
   "execution_count": null,
   "id": "638219a5-8a90-4db9-ba7a-ac9a050a1854",
   "metadata": {},
   "outputs": [],
   "source": [
    "p = np.array(p)"
   ]
  },
  {
   "cell_type": "code",
   "execution_count": null,
   "id": "b40d24e2-993a-4f37-87f5-0b89b0d6da6b",
   "metadata": {},
   "outputs": [],
   "source": [
    "p.shape"
   ]
  },
  {
   "cell_type": "code",
   "execution_count": null,
   "id": "802363e5-76c3-4e0f-8b22-efde84d67ed0",
   "metadata": {},
   "outputs": [],
   "source": [
    "#d[istone, t]\n",
    "d = np.array([[1 / np.sqrt(np.sum((p[istone] - p[jstone]) ** 2, axis=1)) for jstone in range(len(data)) if jstone != istone] for istone in range(len(data))])\n",
    "d = np.sum(d, axis=1)"
   ]
  },
  {
   "cell_type": "code",
   "execution_count": null,
   "id": "36a9144d-608c-426d-b20f-8c67fe966844",
   "metadata": {},
   "outputs": [],
   "source": [
    "hv.HoloMap({i: hv.Curve(zip(t,d[i])) for i in range(10)})"
   ]
  },
  {
   "cell_type": "code",
   "execution_count": null,
   "id": "6e64fda4-6a63-49ea-b915-e485aaf084f7",
   "metadata": {},
   "outputs": [],
   "source": [
    "(\n",
    "    hv.HoloMap({t: hv.Scatter([(d[\"p\"][0] + d[\"v\"][0] * t, d[\"p\"][1] + d[\"v\"][1] * t) for d in data]) for t in np.linspace(0, 1.2e12, 100)}).opts(width=500, height=500) +\n",
    "    hv.HoloMap({t: hv.Scatter([(d[\"p\"][0] + d[\"v\"][0] * t, d[\"p\"][2] + d[\"v\"][2] * t) for d in data]) for t in np.linspace(0, 1.2e12, 100)}).opts(width=500, height=500)\n",
    ")"
   ]
  },
  {
   "cell_type": "code",
   "execution_count": null,
   "id": "fd68c5d5-5895-4e85-be6d-bb9f8c3ded9b",
   "metadata": {},
   "outputs": [],
   "source": []
  }
 ],
 "metadata": {
  "kernelspec": {
   "display_name": "Python 3 (ipykernel)",
   "language": "python",
   "name": "python3"
  },
  "language_info": {
   "codemirror_mode": {
    "name": "ipython",
    "version": 3
   },
   "file_extension": ".py",
   "mimetype": "text/x-python",
   "name": "python",
   "nbconvert_exporter": "python",
   "pygments_lexer": "ipython3",
   "version": "3.11.7"
  }
 },
 "nbformat": 4,
 "nbformat_minor": 5
}
